{
 "cells": [
  {
   "cell_type": "code",
   "execution_count": 15,
   "metadata": {},
   "outputs": [],
   "source": [
    "import numpy as np\n",
    "from os import getcwd\n",
    "from scipy import stats"
   ]
  },
  {
   "cell_type": "code",
   "execution_count": 4,
   "metadata": {},
   "outputs": [],
   "source": [
    "file = r\"C:\\Users\\Emanuele Lovera\\Documents\\Python\\PIClassifier\\data\\p_01_01_nava_10\\001_TrendRRInspTimeETCO2_0000.nta\""
   ]
  },
  {
   "cell_type": "code",
   "execution_count": 5,
   "metadata": {},
   "outputs": [],
   "source": [
    "c = np.loadtxt(file, comments=\"%\", usecols=(3, 4, 6))"
   ]
  },
  {
   "cell_type": "code",
   "execution_count": 6,
   "metadata": {},
   "outputs": [
    {
     "data": {
      "text/plain": [
       "(170, 3)"
      ]
     },
     "execution_count": 6,
     "metadata": {},
     "output_type": "execute_result"
    }
   ],
   "source": [
    "np.shape(c)"
   ]
  },
  {
   "cell_type": "code",
   "execution_count": 16,
   "metadata": {},
   "outputs": [
    {
     "data": {
      "text/plain": [
       "DescribeResult(nobs=30466, minmax=(array([     0.,    223., -13617.,      0.]), array([1.0000e+00, 2.3780e+03, 1.3273e+04, 1.5740e+03])), mean=array([4.32285170e-01, 7.84155354e+02, 1.25558491e+02, 3.64932318e+02]), variance=array([2.45422757e-01, 1.40232118e+05, 3.84745875e+07, 1.14702856e+05]), skewness=array([0.27337796, 1.63510751, 0.41801757, 0.98792001]), kurtosis=array([-1.92526449,  1.82364143, -1.32082921,  0.03870115]))"
      ]
     },
     "execution_count": 16,
     "metadata": {},
     "output_type": "execute_result"
    }
   ],
   "source": [
    "# LOAD SERVO\n",
    "servopath = r\"C:\\Users\\Emanuele Lovera\\Documents\\Python\\PIClassifier\\data\\p_01_01_nava_10\\001_ServoCurveData_0000.nta\"\n",
    "servodata = np.loadtxt(servopath, comments=\"%\", usecols=(3, 4, 5, 6))\n",
    "np.shape(servodata)"
   ]
  },
  {
   "cell_type": "code",
   "execution_count": 25,
   "metadata": {},
   "outputs": [
    {
     "data": {
      "text/plain": [
       "array([[0.   , 0.612],\n",
       "       [0.   , 0.633],\n",
       "       [0.   , 0.59 ],\n",
       "       [0.   , 0.668],\n",
       "       [0.   , 0.688],\n",
       "       [0.   , 0.631],\n",
       "       [0.   , 0.659],\n",
       "       [0.   , 0.643],\n",
       "       [0.   , 0.639],\n",
       "       [0.   , 0.651],\n",
       "       [0.   , 0.606],\n",
       "       [0.   , 0.6  ],\n",
       "       [0.   , 0.623],\n",
       "       [0.   , 0.607],\n",
       "       [0.   , 0.604],\n",
       "       [0.   , 0.605],\n",
       "       [0.   , 0.621],\n",
       "       [0.   , 0.58 ],\n",
       "       [0.   , 0.319],\n",
       "       [0.   , 0.717],\n",
       "       [0.   , 0.557],\n",
       "       [0.   , 0.723],\n",
       "       [0.   , 0.628],\n",
       "       [0.   , 0.601],\n",
       "       [0.   , 0.593],\n",
       "       [0.   , 0.658],\n",
       "       [0.   , 0.654],\n",
       "       [0.   , 0.627],\n",
       "       [0.   , 0.562],\n",
       "       [0.   , 0.626],\n",
       "       [0.   , 0.639],\n",
       "       [0.   , 0.649],\n",
       "       [0.   , 0.567],\n",
       "       [0.   , 0.666],\n",
       "       [0.   , 0.586],\n",
       "       [0.   , 0.456],\n",
       "       [0.   , 0.615],\n",
       "       [0.   , 0.571],\n",
       "       [0.   , 0.486],\n",
       "       [0.   , 0.577],\n",
       "       [0.   , 0.598],\n",
       "       [0.   , 0.651],\n",
       "       [0.   , 0.526],\n",
       "       [0.   , 0.54 ],\n",
       "       [0.   , 0.547],\n",
       "       [0.   , 0.507],\n",
       "       [0.   , 0.549],\n",
       "       [0.   , 0.593],\n",
       "       [0.   , 0.562],\n",
       "       [0.   , 0.527],\n",
       "       [0.   , 0.541],\n",
       "       [0.   , 0.611],\n",
       "       [0.   , 0.53 ],\n",
       "       [0.   , 0.563],\n",
       "       [0.   , 0.   ],\n",
       "       [0.   , 0.447],\n",
       "       [0.   , 0.565],\n",
       "       [0.   , 0.546],\n",
       "       [0.   , 0.554],\n",
       "       [0.   , 0.508],\n",
       "       [0.   , 0.526],\n",
       "       [0.   , 0.576],\n",
       "       [0.   , 0.496],\n",
       "       [0.   , 0.532],\n",
       "       [0.   , 0.555],\n",
       "       [0.   , 0.534],\n",
       "       [0.   , 0.398],\n",
       "       [0.   , 0.545],\n",
       "       [0.   , 0.559],\n",
       "       [0.   , 0.488],\n",
       "       [0.   , 0.467],\n",
       "       [0.   , 0.486],\n",
       "       [0.   , 0.507],\n",
       "       [0.   , 0.554],\n",
       "       [0.   , 0.455],\n",
       "       [0.   , 0.44 ],\n",
       "       [0.   , 0.502],\n",
       "       [0.   , 0.487],\n",
       "       [0.   , 0.659],\n",
       "       [0.   , 0.504],\n",
       "       [0.   , 0.   ],\n",
       "       [0.   , 0.426],\n",
       "       [0.   , 0.538],\n",
       "       [0.   , 0.517],\n",
       "       [0.   , 0.447],\n",
       "       [0.   , 0.52 ],\n",
       "       [0.   , 0.467],\n",
       "       [0.   , 0.526],\n",
       "       [0.   , 0.474],\n",
       "       [0.   , 0.489],\n",
       "       [0.   , 0.436],\n",
       "       [0.   , 0.46 ],\n",
       "       [0.   , 0.456],\n",
       "       [0.   , 0.563],\n",
       "       [0.   , 0.495],\n",
       "       [0.   , 0.417],\n",
       "       [0.   , 0.443],\n",
       "       [0.   , 0.494],\n",
       "       [0.   , 0.517],\n",
       "       [0.   , 0.466],\n",
       "       [0.   , 0.43 ],\n",
       "       [0.   , 0.419],\n",
       "       [0.   , 0.471],\n",
       "       [0.   , 0.422],\n",
       "       [0.   , 0.417],\n",
       "       [0.   , 0.466],\n",
       "       [0.   , 0.38 ],\n",
       "       [0.   , 0.437],\n",
       "       [0.   , 0.374],\n",
       "       [0.   , 0.39 ],\n",
       "       [0.   , 0.418],\n",
       "       [0.   , 0.365],\n",
       "       [0.   , 0.333],\n",
       "       [0.   , 0.534],\n",
       "       [0.   , 0.429],\n",
       "       [0.   , 0.402],\n",
       "       [0.   , 0.458],\n",
       "       [0.   , 0.405],\n",
       "       [0.   , 0.367],\n",
       "       [0.   , 0.383],\n",
       "       [0.   , 0.374],\n",
       "       [0.   , 0.444],\n",
       "       [0.   , 0.41 ],\n",
       "       [0.   , 0.37 ],\n",
       "       [0.   , 0.368],\n",
       "       [0.   , 0.378],\n",
       "       [0.   , 0.428],\n",
       "       [0.   , 0.351],\n",
       "       [0.   , 0.408],\n",
       "       [0.   , 0.338],\n",
       "       [0.   , 0.448],\n",
       "       [0.   , 0.349],\n",
       "       [0.   , 0.393],\n",
       "       [0.   , 0.421],\n",
       "       [0.   , 0.373],\n",
       "       [0.   , 0.398],\n",
       "       [0.   , 0.398],\n",
       "       [0.   , 0.416],\n",
       "       [0.   , 0.426],\n",
       "       [0.   , 0.406],\n",
       "       [0.   , 0.363],\n",
       "       [0.   , 0.351],\n",
       "       [0.   , 0.408],\n",
       "       [0.   , 0.398],\n",
       "       [0.   , 0.443],\n",
       "       [0.   , 0.462],\n",
       "       [0.   , 0.439],\n",
       "       [0.   , 0.428],\n",
       "       [0.   , 0.506],\n",
       "       [0.   , 0.504],\n",
       "       [0.   , 0.453],\n",
       "       [0.   , 0.404],\n",
       "       [0.   , 0.497],\n",
       "       [0.   , 0.001],\n",
       "       [0.   , 0.486],\n",
       "       [0.   , 0.568],\n",
       "       [0.   , 0.584],\n",
       "       [0.   , 0.615],\n",
       "       [0.   , 0.602],\n",
       "       [0.   , 0.554],\n",
       "       [0.   , 0.571],\n",
       "       [0.   , 0.612],\n",
       "       [0.   , 0.565],\n",
       "       [0.   , 0.597],\n",
       "       [0.   , 0.507],\n",
       "       [0.   , 0.557],\n",
       "       [0.   , 0.535],\n",
       "       [0.   , 0.567],\n",
       "       [0.   , 0.63 ],\n",
       "       [0.   , 0.567]])"
      ]
     },
     "execution_count": 25,
     "metadata": {},
     "output_type": "execute_result"
    }
   ],
   "source": [
    "# LOAD VOLUME\n",
    "volumepath = r\"C:\\Users\\Emanuele Lovera\\Documents\\Python\\PIClassifier\\data\\p_01_01_nava_10\\001_TrendTidalVolumeNIVLeakage_0000.nta\"\n",
    "volumedata = np.round((np.loadtxt(volumepath, comments=\"%\", usecols=(3, 4)) / 10000000), 3)\n",
    "np.shape(volumedata)\n",
    "volumedata\n"
   ]
  },
  {
   "cell_type": "code",
   "execution_count": 10,
   "metadata": {},
   "outputs": [
    {
     "data": {
      "text/plain": [
       "(170, 3)"
      ]
     },
     "execution_count": 10,
     "metadata": {},
     "output_type": "execute_result"
    }
   ],
   "source": [
    "# LOAD RR\n",
    "rrpath = r\"C:\\Users\\Emanuele Lovera\\Documents\\Python\\PIClassifier\\data\\p_01_01_nava_10\\001_TrendRRInspTimeETCO2_0000.nta\"\n",
    "rrdata = np.loadtxt(rrpath, comments=\"%\", usecols=(3, 4, 6))\n",
    "np.shape(rrdata)"
   ]
  },
  {
   "cell_type": "code",
   "execution_count": 40,
   "metadata": {},
   "outputs": [
    {
     "data": {
      "text/plain": [
       "array([[  19. ,   42.4,   56.8],\n",
       "       [ 184. ,   41.9,   54.6],\n",
       "       [ 327. ,   42.1,   62.8],\n",
       "       [ 510. ,   41.3,   61.4],\n",
       "       [ 593. ,   42.2,   39.8],\n",
       "       [ 717. ,   42.7,   37.4],\n",
       "       [ 880. ,   42.8,   54.8],\n",
       "       [1023. ,   43.2,   48.6],\n",
       "       [1125. ,   42.9,   37.4],\n",
       "       [1228. ,   43.3,   39.2],\n",
       "       [1393. ,   43.4,   60.4],\n",
       "       [1517. ,   44. ,   43.4],\n",
       "       [1701. ,   43.5,   43.8],\n",
       "       [1864. ,   43.9,   45.2],\n",
       "       [1968. ,   44.5,   19.2],\n",
       "       [2030. ,   43.7,   37. ],\n",
       "       [2233. ,   43.3,   49.2],\n",
       "       [2376. ,   43.7,   50.2],\n",
       "       [2519. ,   43.6,   53. ],\n",
       "       [2682. ,   43.3,   48.6],\n",
       "       [2865. ,   43.9,   40.6],\n",
       "       [3028. ,   43.2,   59.8],\n",
       "       [3171. ,   43.9,   51.2]])"
      ]
     },
     "execution_count": 40,
     "metadata": {},
     "output_type": "execute_result"
    }
   ],
   "source": [
    "# LOAD BREATH\n",
    "breathpath = r\"C:\\Users\\Emanuele Lovera\\Documents\\Python\\PIClassifier\\data\\p_new\\Breath_00000000.sta\"\n",
    "breathdata = np.loadtxt(breathpath, comments=\"%\", usecols=(1, 2, 3))\n",
    "np.shape(breathdata)\n",
    "breathdata"
   ]
  },
  {
   "cell_type": "code",
   "execution_count": 13,
   "metadata": {},
   "outputs": [
    {
     "data": {
      "text/plain": [
       "(3253, 4)"
      ]
     },
     "execution_count": 13,
     "metadata": {},
     "output_type": "execute_result"
    }
   ],
   "source": [
    "# LOAD CURVES\n",
    "curvespaths = [r\"C:\\Users\\Emanuele Lovera\\Documents\\Python\\PIClassifier\\data\\p_new\\Curves_00000000.sta\",\n",
    "              r\"C:\\Users\\Emanuele Lovera\\Documents\\Python\\PIClassifier\\data\\p_new\\Curves_00000001.sta\",\n",
    "              r\"C:\\Users\\Emanuele Lovera\\Documents\\Python\\PIClassifier\\data\\p_new\\Curves_00000002.sta\",\n",
    "              r\"C:\\Users\\Emanuele Lovera\\Documents\\Python\\PIClassifier\\data\\p_new\\Curves_00000003.sta\"]\n",
    "curvesdata = None\n",
    "for file_path in curvespaths:\n",
    "    if curvesdata is None:\n",
    "        curvesdata = np.loadtxt(file_path, comments=\"%\", usecols=(2, 3, 5, 6))\n",
    "    else:\n",
    "        curvesdata = np.concatenate((curvesdata, np.loadtxt(file_path, comments=\"%\", usecols=(2, 3, 5, 6))))\n",
    "np.shape(curvesdata)"
   ]
  },
  {
   "cell_type": "code",
   "execution_count": 36,
   "metadata": {},
   "outputs": [
    {
     "data": {
      "text/plain": [
       "array([[1, 2, 3],\n",
       "       [4, 5, 6]])"
      ]
     },
     "execution_count": 36,
     "metadata": {},
     "output_type": "execute_result"
    }
   ],
   "source": [
    "a = np.array([[1,2,3], [4,5,6]])\n",
    "a"
   ]
  },
  {
   "cell_type": "code",
   "execution_count": 38,
   "metadata": {},
   "outputs": [
    {
     "data": {
      "text/plain": [
       "array([1. , 2.5])"
      ]
     },
     "execution_count": 38,
     "metadata": {},
     "output_type": "execute_result"
    }
   ],
   "source": [
    "a[:,1] / 2"
   ]
  },
  {
   "cell_type": "code",
   "execution_count": 39,
   "metadata": {},
   "outputs": [
    {
     "data": {
      "text/plain": [
       "array([[1, 2, 3],\n",
       "       [4, 5, 6]])"
      ]
     },
     "execution_count": 39,
     "metadata": {},
     "output_type": "execute_result"
    }
   ],
   "source": [
    "a"
   ]
  },
  {
   "cell_type": "code",
   "execution_count": null,
   "metadata": {},
   "outputs": [],
   "source": []
  }
 ],
 "metadata": {
  "kernelspec": {
   "display_name": "Python 3",
   "language": "python",
   "name": "python3"
  },
  "language_info": {
   "codemirror_mode": {
    "name": "ipython",
    "version": 3
   },
   "file_extension": ".py",
   "mimetype": "text/x-python",
   "name": "python",
   "nbconvert_exporter": "python",
   "pygments_lexer": "ipython3",
   "version": "3.7.2"
  }
 },
 "nbformat": 4,
 "nbformat_minor": 2
}
